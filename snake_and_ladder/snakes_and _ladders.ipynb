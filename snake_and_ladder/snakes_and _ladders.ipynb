{
 "cells": [
  {
   "cell_type": "markdown",
   "metadata": {},
   "source": [
    "The Snake and Ladder game is a classic board game where players roll a dice to advance on a numbered grid. They aim to reach the final square (usually 100) while avoiding snakes that slide them down and using ladders that help them climb up. The first player to reach or exceed the final square wins."
   ]
  },
  {
   "cell_type": "code",
   "execution_count": null,
   "metadata": {},
   "outputs": [],
   "source": [
    "import random\n",
    "\n",
    "# Define snakes and ladders with their positions\n",
    "snakes = {17: 7,54: 34,62: 19,64: 60,87: 36,95: 75,93: 73,98: 79,\n",
    "}\n",
    "\n",
    "ladders = {\n",
    "    4: 14,9: 31,1: 38,21: 42,28: 84,51: 67,71: 91,80: 99,\n",
    "}\n",
    "\n",
    "# Function to roll a dice\n",
    "def roll_dice():\n",
    "    return random.randint(1, 6)\n",
    "\n",
    "# Function to move the player according to the steps rolled\n",
    "def move_player(current_position, steps):\n",
    "    new_position = current_position + steps\n",
    "    # Check if the new position is the head of a snake\n",
    "    if new_position in snakes:\n",
    "        print(\"Oops! You got bitten by a snake! You go down to\", snakes[new_position])\n",
    "        new_position = snakes[new_position]\n",
    "    # Check if the new position is the bottom of a ladder\n",
    "    elif new_position in ladders:\n",
    "        print(\"Wow! You found a ladder! You climb up to\", ladders[new_position])\n",
    "        new_position = ladders[new_position]\n",
    "    return new_position\n",
    "\n",
    "# Function to check if a player has won\n",
    "def check_win(player_position):\n",
    "    return player_position >= 100\n",
    "\n",
    "# Function to play the game\n",
    "def play_game(number_of_players):\n",
    "    # Initialize player positions\n",
    "    players_positions = [0] * number_of_players\n",
    "    # Main game loop\n",
    "    while True:\n",
    "        # Iterate over each player\n",
    "        for i in range(number_of_players):\n",
    "            # Prompt the player to roll the dice\n",
    "            input(f\"Player {i+1}, press Enter to roll the dice...\")\n",
    "            dice_roll = roll_dice()  # Roll the dice\n",
    "            print(f\"Player {i+1} rolled:\", dice_roll)  # Print the dice roll\n",
    "            # Move the player based on the dice roll\n",
    "            players_positions[i] = move_player(players_positions[i], dice_roll)\n",
    "            # Print player's current position\n",
    "            print(f\"Player {i+1} is now at position\", players_positions[i])\n",
    "            # Check if the player has won\n",
    "            if check_win(players_positions[i]):\n",
    "                print(f\"Player {i+1} wins!\")  # Print the winning player\n",
    "                return  # End the game\n",
    "\n",
    "\n",
    "# Start the game\n",
    "while True:\n",
    "    # Ask the user to input the number of players\n",
    "    num_players = input(\"Enter the number of players (2-4): \")\n",
    "    # Validate the input\n",
    "    if num_players.isdigit() and 2 <= int(num_players) <= 4:\n",
    "        play_game(int(num_players))  # Start the game with the specified number of players\n",
    "        break  # End the loop\n",
    "    else:\n",
    "        print(\"Please enter a valid number of players (2-4).\")  # Prompt the user to enter a valid number of players\n"
   ]
  }
 ],
 "metadata": {
  "kernelspec": {
   "display_name": "Python 3",
   "language": "python",
   "name": "python3"
  },
  "language_info": {
   "codemirror_mode": {
    "name": "ipython",
    "version": 3
   },
   "file_extension": ".py",
   "mimetype": "text/x-python",
   "name": "python",
   "nbconvert_exporter": "python",
   "pygments_lexer": "ipython3",
   "version": "3.9.6"
  }
 },
 "nbformat": 4,
 "nbformat_minor": 2
}
