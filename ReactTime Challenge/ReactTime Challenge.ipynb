{
 "cells": [
  {
   "cell_type": "markdown",
   "metadata": {},
   "source": [
    "Test your reaction time! Set a time frame, hit Enter to start the countdown, and press Enter again when you think it's up. Get instant feedback and see how close you were. Compare your actual time to your target for an extra challenge"
   ]
  },
  {
   "cell_type": "code",
   "execution_count": null,
   "metadata": {},
   "outputs": [],
   "source": [
    "import time\n",
    "\n",
    "def reaction_time_game():\n",
    "    # Prompt user to choose a time frame\n",
    "    time_frame = int(input(\"Enter the time frame in seconds: \"))\n",
    "    print(\"Get ready to guess the time frame of\", time_frame, \"seconds!\")\n",
    "    input(\"Press Enter to start the timer...\")\n",
    "\n",
    "    # Start the timer\n",
    "    start_time = time.time()\n",
    "\n",
    "    # Wait for user to guess\n",
    "    input(\"Press Enter when you think the time is up...\")\n",
    "\n",
    "    # Calculate the actual time taken\n",
    "    end_time = time.time()\n",
    "    actual_time = end_time - start_time\n",
    "\n",
    "    # Calculate the difference between actual and desired time\n",
    "    difference = abs(actual_time - time_frame)\n",
    "\n",
    "    # Calculate accuracy percentage\n",
    "    accuracy = ((time_frame - difference) / time_frame) * 100\n",
    "\n",
    "    # Provide feedback based on accuracy\n",
    "    if accuracy >= 95:\n",
    "        print(\"Ta-da! You're spot on!\")\n",
    "    elif accuracy >= 90:\n",
    "        print(\"Great! You're within 5% of the target!\")\n",
    "    elif accuracy >= 85:\n",
    "        print(\"Excellent! You're within 10% of the target!\")\n",
    "    elif accuracy >= 80:\n",
    "        print(\"Not bad! You're within 15% of the target!\")\n",
    "    elif accuracy >= 75:\n",
    "        print(\"Good effort! You're within 20% of the target!\")\n",
    "    else:\n",
    "        print(\"You're not very good at this...\")\n",
    "\n",
    "    # Print the comparison between actual and desired time frame\n",
    "    print(\"Your time: {:.2f}/{:.2f}\".format(actual_time, time_frame))\n",
    "    print(\"Your accuracy: {:.2f}%\".format(accuracy))\n",
    "\n",
    "# Run the game\n",
    "reaction_time_game()\n"
   ]
  }
 ],
 "metadata": {
  "kernelspec": {
   "display_name": "Python 3",
   "language": "python",
   "name": "python3"
  },
  "language_info": {
   "codemirror_mode": {
    "name": "ipython",
    "version": 3
   },
   "file_extension": ".py",
   "mimetype": "text/x-python",
   "name": "python",
   "nbconvert_exporter": "python",
   "pygments_lexer": "ipython3",
   "version": "3.9.6"
  }
 },
 "nbformat": 4,
 "nbformat_minor": 2
}
