{
 "cells": [
  {
   "cell_type": "markdown",
   "metadata": {},
   "source": [
    "Python script implements a simple head-tail guessing game. It prompts the user to input their choice (either 'H' for heads or 'T' for tails), simulates a coin flip, and then compares the user's choice with the result. If the user's choice matches the result, they win; otherwise, they lose."
   ]
  },
  {
   "cell_type": "code",
   "execution_count": null,
   "metadata": {
    "vscode": {
     "languageId": "plaintext"
    }
   },
   "outputs": [],
   "source": [
    "import random\n",
    "\n",
    "while True:\n",
    "    # Prompt user to input choice\n",
    "    choice = input(\"Heads or tails? (H/T): \").upper()\n",
    "\n",
    "    # Convert user input to full word\n",
    "    if choice == \"H\":\n",
    "        choice = \"Heads\"\n",
    "    elif choice == \"T\":\n",
    "        choice = \"Tails\"\n",
    "    else:\n",
    "        # Invalid input, prompt user again\n",
    "        print(\"Invalid input. Please choose 'H' for Heads or 'T' for Tails.\")\n",
    "        continue\n",
    "\n",
    "    # Simulate a coin flip\n",
    "    result = random.choice([\"Heads\", \"Tails\"])\n",
    "\n",
    "    # Display user's choice and result\n",
    "    print(\"You chose:\", choice)\n",
    "    print(\"The result is:\", result)\n",
    "\n",
    "    # Check if user's choice matches the result\n",
    "    if choice == result:\n",
    "        print(\"Congratulations! You win!\")\n",
    "    else:\n",
    "        print(\"Sorry, you lose. Better luck next time!\")\n",
    "\n",
    "    # Ask if user wants to play again\n",
    "    play_again = input(\"Do you want to play again? (Y/N): \").upper()\n",
    "    if play_again != \"Y\":\n",
    "        # Exit the loop if the user doesn't want to play again\n",
    "        break\n"
   ]
  }
 ],
 "metadata": {
  "language_info": {
   "name": "python"
  }
 },
 "nbformat": 4,
 "nbformat_minor": 2
}
