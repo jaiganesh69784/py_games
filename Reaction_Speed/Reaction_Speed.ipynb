{
 "cells": [
  {
   "cell_type": "markdown",
   "metadata": {},
   "source": [
    "\n",
    "This Python script measures your reaction speed. It counts down from 3 to 1, then prompts you to press Enter. After a random delay, it displays \"Press ENTER now!\" and waits for your response. It then calculates your reaction time and categorizes it as fast, average, slow, or terrible based on predefined thresholds. Give it a try and see how quick you are!"
   ]
  },
  {
   "cell_type": "code",
   "execution_count": null,
   "metadata": {},
   "outputs": [],
   "source": [
    "import time\n",
    "import random\n",
    "\n",
    "def reaction_speed_test():\n",
    "    print(\"Get ready to test your reaction speed!\")\n",
    "    time.sleep(1)\n",
    "    print(\"Starting in 3...\")\n",
    "    time.sleep(1)\n",
    "    print(\"2...\")\n",
    "    time.sleep(1)\n",
    "    print(\"1...\")\n",
    "    time.sleep(1)\n",
    "    print(\"START!\")\n",
    "    start_time = time.time()\n",
    "\n",
    "    # Random delay between 1 to 10 seconds for 'START' message\n",
    "    delay = random.randint(1, 10)\n",
    "    time.sleep(delay)\n",
    "\n",
    "    # Record time just before displaying the message\n",
    "    reaction_start_time = time.time()\n",
    "    print(\"Press ENTER now!\")\n",
    "\n",
    "    input()  # Wait for user to press ENTER\n",
    "\n",
    "    # Calculate reaction time\n",
    "    reaction_end_time = time.time()\n",
    "    reaction_time = reaction_end_time - reaction_start_time\n",
    "\n",
    "    print(\"Your reaction time: {:.2f} seconds\".format(reaction_time))\n",
    "\n",
    "    if reaction_time <= 0.2:\n",
    "        print(\"Fast: Typically around 0.15 to 0.2 seconds.\")\n",
    "    elif reaction_time <= 0.3:\n",
    "        print(\"Average: Around 0.25 to 0.3 seconds.\")\n",
    "    elif reaction_time <= 0.5:\n",
    "        print(\"Slow: Ranging from 0.35 to 0.5 seconds.\")\n",
    "    else:\n",
    "        print(\"Terrible: Beyond 0.5 seconds.\")\n",
    "\n",
    "# Run the game\n",
    "reaction_speed_test()\n"
   ]
  }
 ],
 "metadata": {
  "kernelspec": {
   "display_name": "Python 3",
   "language": "python",
   "name": "python3"
  },
  "language_info": {
   "codemirror_mode": {
    "name": "ipython",
    "version": 3
   },
   "file_extension": ".py",
   "mimetype": "text/x-python",
   "name": "python",
   "nbconvert_exporter": "python",
   "pygments_lexer": "ipython3",
   "version": "3.9.6"
  }
 },
 "nbformat": 4,
 "nbformat_minor": 2
}
